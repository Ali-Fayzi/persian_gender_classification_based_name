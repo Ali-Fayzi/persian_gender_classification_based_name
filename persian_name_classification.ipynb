{
  "nbformat": 4,
  "nbformat_minor": 0,
  "metadata": {
    "colab": {
      "provenance": [],
      "gpuType": "T4"
    },
    "kernelspec": {
      "name": "python3",
      "display_name": "Python 3"
    },
    "language_info": {
      "name": "python"
    },
    "accelerator": "GPU",
    "widgets": {
      "application/vnd.jupyter.widget-state+json": {
        "ee6fccb51f874ff49eb7c041a08afa3e": {
          "model_module": "@jupyter-widgets/controls",
          "model_name": "HBoxModel",
          "model_module_version": "1.5.0",
          "state": {
            "_dom_classes": [],
            "_model_module": "@jupyter-widgets/controls",
            "_model_module_version": "1.5.0",
            "_model_name": "HBoxModel",
            "_view_count": null,
            "_view_module": "@jupyter-widgets/controls",
            "_view_module_version": "1.5.0",
            "_view_name": "HBoxView",
            "box_style": "",
            "children": [
              "IPY_MODEL_7c7604f7d9aa4f92adec93c9b8353b93",
              "IPY_MODEL_99221cced31246aebaa39d83df16bfdb",
              "IPY_MODEL_4ac528fe05c14eab9ed070c1a907cb2d"
            ],
            "layout": "IPY_MODEL_a7110acc4cb444669e48b9f24749e2f7"
          }
        },
        "7c7604f7d9aa4f92adec93c9b8353b93": {
          "model_module": "@jupyter-widgets/controls",
          "model_name": "HTMLModel",
          "model_module_version": "1.5.0",
          "state": {
            "_dom_classes": [],
            "_model_module": "@jupyter-widgets/controls",
            "_model_module_version": "1.5.0",
            "_model_name": "HTMLModel",
            "_view_count": null,
            "_view_module": "@jupyter-widgets/controls",
            "_view_module_version": "1.5.0",
            "_view_name": "HTMLView",
            "description": "",
            "description_tooltip": null,
            "layout": "IPY_MODEL_9f24e1ed5e154ff58061f8c7c8441bec",
            "placeholder": "​",
            "style": "IPY_MODEL_437aa23a91be4cc3b7ffa9f50d7b4df8",
            "value": "Map: 100%"
          }
        },
        "99221cced31246aebaa39d83df16bfdb": {
          "model_module": "@jupyter-widgets/controls",
          "model_name": "FloatProgressModel",
          "model_module_version": "1.5.0",
          "state": {
            "_dom_classes": [],
            "_model_module": "@jupyter-widgets/controls",
            "_model_module_version": "1.5.0",
            "_model_name": "FloatProgressModel",
            "_view_count": null,
            "_view_module": "@jupyter-widgets/controls",
            "_view_module_version": "1.5.0",
            "_view_name": "ProgressView",
            "bar_style": "success",
            "description": "",
            "description_tooltip": null,
            "layout": "IPY_MODEL_da9bb28e2ddf496aa5562d1f63f55edb",
            "max": 2000,
            "min": 0,
            "orientation": "horizontal",
            "style": "IPY_MODEL_072d6a0c2aad4de6affec1a75c4b2453",
            "value": 2000
          }
        },
        "4ac528fe05c14eab9ed070c1a907cb2d": {
          "model_module": "@jupyter-widgets/controls",
          "model_name": "HTMLModel",
          "model_module_version": "1.5.0",
          "state": {
            "_dom_classes": [],
            "_model_module": "@jupyter-widgets/controls",
            "_model_module_version": "1.5.0",
            "_model_name": "HTMLModel",
            "_view_count": null,
            "_view_module": "@jupyter-widgets/controls",
            "_view_module_version": "1.5.0",
            "_view_name": "HTMLView",
            "description": "",
            "description_tooltip": null,
            "layout": "IPY_MODEL_732e3c40a1b649a78e2b9282ba1e3d88",
            "placeholder": "​",
            "style": "IPY_MODEL_ac8c52348306405c9c3392c2249d9590",
            "value": " 2000/2000 [00:00&lt;00:00, 5716.44 examples/s]"
          }
        },
        "a7110acc4cb444669e48b9f24749e2f7": {
          "model_module": "@jupyter-widgets/base",
          "model_name": "LayoutModel",
          "model_module_version": "1.2.0",
          "state": {
            "_model_module": "@jupyter-widgets/base",
            "_model_module_version": "1.2.0",
            "_model_name": "LayoutModel",
            "_view_count": null,
            "_view_module": "@jupyter-widgets/base",
            "_view_module_version": "1.2.0",
            "_view_name": "LayoutView",
            "align_content": null,
            "align_items": null,
            "align_self": null,
            "border": null,
            "bottom": null,
            "display": null,
            "flex": null,
            "flex_flow": null,
            "grid_area": null,
            "grid_auto_columns": null,
            "grid_auto_flow": null,
            "grid_auto_rows": null,
            "grid_column": null,
            "grid_gap": null,
            "grid_row": null,
            "grid_template_areas": null,
            "grid_template_columns": null,
            "grid_template_rows": null,
            "height": null,
            "justify_content": null,
            "justify_items": null,
            "left": null,
            "margin": null,
            "max_height": null,
            "max_width": null,
            "min_height": null,
            "min_width": null,
            "object_fit": null,
            "object_position": null,
            "order": null,
            "overflow": null,
            "overflow_x": null,
            "overflow_y": null,
            "padding": null,
            "right": null,
            "top": null,
            "visibility": null,
            "width": null
          }
        },
        "9f24e1ed5e154ff58061f8c7c8441bec": {
          "model_module": "@jupyter-widgets/base",
          "model_name": "LayoutModel",
          "model_module_version": "1.2.0",
          "state": {
            "_model_module": "@jupyter-widgets/base",
            "_model_module_version": "1.2.0",
            "_model_name": "LayoutModel",
            "_view_count": null,
            "_view_module": "@jupyter-widgets/base",
            "_view_module_version": "1.2.0",
            "_view_name": "LayoutView",
            "align_content": null,
            "align_items": null,
            "align_self": null,
            "border": null,
            "bottom": null,
            "display": null,
            "flex": null,
            "flex_flow": null,
            "grid_area": null,
            "grid_auto_columns": null,
            "grid_auto_flow": null,
            "grid_auto_rows": null,
            "grid_column": null,
            "grid_gap": null,
            "grid_row": null,
            "grid_template_areas": null,
            "grid_template_columns": null,
            "grid_template_rows": null,
            "height": null,
            "justify_content": null,
            "justify_items": null,
            "left": null,
            "margin": null,
            "max_height": null,
            "max_width": null,
            "min_height": null,
            "min_width": null,
            "object_fit": null,
            "object_position": null,
            "order": null,
            "overflow": null,
            "overflow_x": null,
            "overflow_y": null,
            "padding": null,
            "right": null,
            "top": null,
            "visibility": null,
            "width": null
          }
        },
        "437aa23a91be4cc3b7ffa9f50d7b4df8": {
          "model_module": "@jupyter-widgets/controls",
          "model_name": "DescriptionStyleModel",
          "model_module_version": "1.5.0",
          "state": {
            "_model_module": "@jupyter-widgets/controls",
            "_model_module_version": "1.5.0",
            "_model_name": "DescriptionStyleModel",
            "_view_count": null,
            "_view_module": "@jupyter-widgets/base",
            "_view_module_version": "1.2.0",
            "_view_name": "StyleView",
            "description_width": ""
          }
        },
        "da9bb28e2ddf496aa5562d1f63f55edb": {
          "model_module": "@jupyter-widgets/base",
          "model_name": "LayoutModel",
          "model_module_version": "1.2.0",
          "state": {
            "_model_module": "@jupyter-widgets/base",
            "_model_module_version": "1.2.0",
            "_model_name": "LayoutModel",
            "_view_count": null,
            "_view_module": "@jupyter-widgets/base",
            "_view_module_version": "1.2.0",
            "_view_name": "LayoutView",
            "align_content": null,
            "align_items": null,
            "align_self": null,
            "border": null,
            "bottom": null,
            "display": null,
            "flex": null,
            "flex_flow": null,
            "grid_area": null,
            "grid_auto_columns": null,
            "grid_auto_flow": null,
            "grid_auto_rows": null,
            "grid_column": null,
            "grid_gap": null,
            "grid_row": null,
            "grid_template_areas": null,
            "grid_template_columns": null,
            "grid_template_rows": null,
            "height": null,
            "justify_content": null,
            "justify_items": null,
            "left": null,
            "margin": null,
            "max_height": null,
            "max_width": null,
            "min_height": null,
            "min_width": null,
            "object_fit": null,
            "object_position": null,
            "order": null,
            "overflow": null,
            "overflow_x": null,
            "overflow_y": null,
            "padding": null,
            "right": null,
            "top": null,
            "visibility": null,
            "width": null
          }
        },
        "072d6a0c2aad4de6affec1a75c4b2453": {
          "model_module": "@jupyter-widgets/controls",
          "model_name": "ProgressStyleModel",
          "model_module_version": "1.5.0",
          "state": {
            "_model_module": "@jupyter-widgets/controls",
            "_model_module_version": "1.5.0",
            "_model_name": "ProgressStyleModel",
            "_view_count": null,
            "_view_module": "@jupyter-widgets/base",
            "_view_module_version": "1.2.0",
            "_view_name": "StyleView",
            "bar_color": null,
            "description_width": ""
          }
        },
        "732e3c40a1b649a78e2b9282ba1e3d88": {
          "model_module": "@jupyter-widgets/base",
          "model_name": "LayoutModel",
          "model_module_version": "1.2.0",
          "state": {
            "_model_module": "@jupyter-widgets/base",
            "_model_module_version": "1.2.0",
            "_model_name": "LayoutModel",
            "_view_count": null,
            "_view_module": "@jupyter-widgets/base",
            "_view_module_version": "1.2.0",
            "_view_name": "LayoutView",
            "align_content": null,
            "align_items": null,
            "align_self": null,
            "border": null,
            "bottom": null,
            "display": null,
            "flex": null,
            "flex_flow": null,
            "grid_area": null,
            "grid_auto_columns": null,
            "grid_auto_flow": null,
            "grid_auto_rows": null,
            "grid_column": null,
            "grid_gap": null,
            "grid_row": null,
            "grid_template_areas": null,
            "grid_template_columns": null,
            "grid_template_rows": null,
            "height": null,
            "justify_content": null,
            "justify_items": null,
            "left": null,
            "margin": null,
            "max_height": null,
            "max_width": null,
            "min_height": null,
            "min_width": null,
            "object_fit": null,
            "object_position": null,
            "order": null,
            "overflow": null,
            "overflow_x": null,
            "overflow_y": null,
            "padding": null,
            "right": null,
            "top": null,
            "visibility": null,
            "width": null
          }
        },
        "ac8c52348306405c9c3392c2249d9590": {
          "model_module": "@jupyter-widgets/controls",
          "model_name": "DescriptionStyleModel",
          "model_module_version": "1.5.0",
          "state": {
            "_model_module": "@jupyter-widgets/controls",
            "_model_module_version": "1.5.0",
            "_model_name": "DescriptionStyleModel",
            "_view_count": null,
            "_view_module": "@jupyter-widgets/base",
            "_view_module_version": "1.2.0",
            "_view_name": "StyleView",
            "description_width": ""
          }
        }
      }
    }
  },
  "cells": [
    {
      "cell_type": "markdown",
      "source": [
        "# Import Libraries"
      ],
      "metadata": {
        "id": "jV4oZuK_5qmu"
      }
    },
    {
      "cell_type": "code",
      "execution_count": 7,
      "metadata": {
        "id": "9QOg8nQmmlcQ"
      },
      "outputs": [],
      "source": [
        "import torch\n",
        "from datasets import load_dataset\n",
        "from transformers import AutoTokenizer, AutoModelForSequenceClassification\n",
        "from transformers import TrainingArguments , Trainer\n",
        "from sklearn.model_selection import train_test_split"
      ]
    },
    {
      "cell_type": "markdown",
      "source": [
        "# Split Data to Train & Validation"
      ],
      "metadata": {
        "id": "9x2HNXti5y9n"
      }
    },
    {
      "cell_type": "code",
      "source": [
        "import pandas as pd\n",
        "import numpy as np\n",
        "from sklearn.utils import shuffle\n",
        "data_frame = pd.read_csv(\"/content/iranianNamesDataset.csv\")\n",
        "data_frame = shuffle(data_frame)\n",
        "train_ = []\n",
        "val_   = []\n",
        "for row in data_frame.iterrows():\n",
        "  if row[1][\"Gender\"] == \"M\":\n",
        "      label = 0\n",
        "  else:\n",
        "      label = 1\n",
        "  if np.random.rand () > 0.9:\n",
        "\n",
        "    val_.append([row[1][\"Names\"],label])\n",
        "  else:\n",
        "    train_.append([row[1][\"Names\"],label])"
      ],
      "metadata": {
        "id": "VEMnz9_-r3pj"
      },
      "execution_count": 55,
      "outputs": []
    },
    {
      "cell_type": "markdown",
      "source": [
        "# Save To CSV"
      ],
      "metadata": {
        "id": "s3jos2e759i4"
      }
    },
    {
      "cell_type": "code",
      "source": [
        "train_frame = pd.DataFrame(train_,columns=[\"text\",\"label\"])\n",
        "val_frame = pd.DataFrame(val_,columns=[\"text\",\"label\"])\n",
        "\n",
        "train_frame.to_csv(\"train_names.csv\",index=False)\n",
        "val_frame.to_csv(\"val_names.csv\",index=False)"
      ],
      "metadata": {
        "id": "CKvQQimDtDcV"
      },
      "execution_count": 57,
      "outputs": []
    },
    {
      "cell_type": "markdown",
      "source": [
        "# Load Dataset with datasets library"
      ],
      "metadata": {
        "id": "elknzuPi6GVu"
      }
    },
    {
      "cell_type": "code",
      "source": [
        "from datasets import load_dataset\n",
        "geneder_classification = load_dataset(\"csv\",data_files={\n",
        "    \"train\":\"/content/train_names.csv\",\n",
        "    \"validation\":\"/content/val_names.csv\"\n",
        "})"
      ],
      "metadata": {
        "id": "oFCjAk5ZqyxX"
      },
      "execution_count": 8,
      "outputs": []
    },
    {
      "cell_type": "code",
      "source": [
        "geneder_classification"
      ],
      "metadata": {
        "colab": {
          "base_uri": "https://localhost:8080/"
        },
        "id": "FwU0mx26tUIx",
        "outputId": "cd063dea-5be4-42d9-90b7-54c0afeb4b3f"
      },
      "execution_count": 9,
      "outputs": [
        {
          "output_type": "execute_result",
          "data": {
            "text/plain": [
              "DatasetDict({\n",
              "    train: Dataset({\n",
              "        features: ['text', 'label'],\n",
              "        num_rows: 17881\n",
              "    })\n",
              "    validation: Dataset({\n",
              "        features: ['text', 'label'],\n",
              "        num_rows: 2000\n",
              "    })\n",
              "})"
            ]
          },
          "metadata": {},
          "execution_count": 9
        }
      ]
    },
    {
      "cell_type": "code",
      "source": [
        "print(geneder_classification[\"train\"][0])\n",
        "print(geneder_classification[\"train\"][-1])\n",
        "print(geneder_classification[\"validation\"][0])\n",
        "print(geneder_classification[\"validation\"][-1])"
      ],
      "metadata": {
        "colab": {
          "base_uri": "https://localhost:8080/"
        },
        "id": "kqhqgJfgtVNH",
        "outputId": "04b53a67-675c-46e8-c374-192f690276bf"
      },
      "execution_count": 10,
      "outputs": [
        {
          "output_type": "stream",
          "name": "stdout",
          "text": [
            "{'text': 'بی بی راحله', 'label': 1}\n",
            "{'text': 'محمدقاشم', 'label': 0}\n",
            "{'text': 'صونا', 'label': 1}\n",
            "{'text': 'سعد', 'label': 0}\n"
          ]
        }
      ]
    },
    {
      "cell_type": "markdown",
      "source": [
        "# Load Tokenizer and Model"
      ],
      "metadata": {
        "id": "4Na_lpeJ6N95"
      }
    },
    {
      "cell_type": "code",
      "source": [
        "model_id = \"distilbert-base-uncased\""
      ],
      "metadata": {
        "id": "EEjYS4y7t_zg"
      },
      "execution_count": 11,
      "outputs": []
    },
    {
      "cell_type": "code",
      "source": [
        "tokenizer = AutoTokenizer.from_pretrained(model_id)"
      ],
      "metadata": {
        "colab": {
          "base_uri": "https://localhost:8080/"
        },
        "id": "Ut3UaKjluC5z",
        "outputId": "5ab8a28d-2f44-4883-b146-6b1b5931880c"
      },
      "execution_count": 12,
      "outputs": [
        {
          "output_type": "stream",
          "name": "stderr",
          "text": [
            "/usr/local/lib/python3.11/dist-packages/huggingface_hub/utils/_auth.py:94: UserWarning: \n",
            "The secret `HF_TOKEN` does not exist in your Colab secrets.\n",
            "To authenticate with the Hugging Face Hub, create a token in your settings tab (https://huggingface.co/settings/tokens), set it as secret in your Google Colab and restart your session.\n",
            "You will be able to reuse this secret in all of your notebooks.\n",
            "Please note that authentication is recommended but still optional to access public models or datasets.\n",
            "  warnings.warn(\n"
          ]
        }
      ]
    },
    {
      "cell_type": "code",
      "source": [
        "def tokenize(batch):\n",
        "  return tokenizer(batch[\"text\"],padding=True,truncation=True)\n",
        "names_encoded = geneder_classification.map(tokenize,batched=True,batch_size=None)"
      ],
      "metadata": {
        "colab": {
          "base_uri": "https://localhost:8080/",
          "height": 49,
          "referenced_widgets": [
            "ee6fccb51f874ff49eb7c041a08afa3e",
            "7c7604f7d9aa4f92adec93c9b8353b93",
            "99221cced31246aebaa39d83df16bfdb",
            "4ac528fe05c14eab9ed070c1a907cb2d",
            "a7110acc4cb444669e48b9f24749e2f7",
            "9f24e1ed5e154ff58061f8c7c8441bec",
            "437aa23a91be4cc3b7ffa9f50d7b4df8",
            "da9bb28e2ddf496aa5562d1f63f55edb",
            "072d6a0c2aad4de6affec1a75c4b2453",
            "732e3c40a1b649a78e2b9282ba1e3d88",
            "ac8c52348306405c9c3392c2249d9590"
          ]
        },
        "id": "dMOhkIrauNis",
        "outputId": "3a613088-1737-4f9c-ae38-75b3a6693621"
      },
      "execution_count": 13,
      "outputs": [
        {
          "output_type": "display_data",
          "data": {
            "text/plain": [
              "Map:   0%|          | 0/2000 [00:00<?, ? examples/s]"
            ],
            "application/vnd.jupyter.widget-view+json": {
              "version_major": 2,
              "version_minor": 0,
              "model_id": "ee6fccb51f874ff49eb7c041a08afa3e"
            }
          },
          "metadata": {}
        }
      ]
    },
    {
      "cell_type": "code",
      "source": [
        "print(names_encoded[\"train\"][0])\n",
        "print(names_encoded[\"validation\"][0])"
      ],
      "metadata": {
        "colab": {
          "base_uri": "https://localhost:8080/"
        },
        "id": "cDdjFNCx0YFb",
        "outputId": "141f8212-45d4-473b-a440-a6e5cd4f98be"
      },
      "execution_count": 14,
      "outputs": [
        {
          "output_type": "stream",
          "name": "stdout",
          "text": [
            "{'text': 'بی بی راحله', 'label': 1, 'input_ids': [101, 1271, 24830, 1271, 24830, 1280, 25573, 29820, 23673, 14157, 102, 0, 0, 0, 0, 0], 'attention_mask': [1, 1, 1, 1, 1, 1, 1, 1, 1, 1, 1, 0, 0, 0, 0, 0]}\n",
            "{'text': 'صونا', 'label': 1, 'input_ids': [101, 1284, 29836, 15915, 25573, 102, 0, 0, 0, 0, 0, 0, 0, 0, 0], 'attention_mask': [1, 1, 1, 1, 1, 1, 0, 0, 0, 0, 0, 0, 0, 0, 0]}\n"
          ]
        }
      ]
    },
    {
      "cell_type": "code",
      "source": [
        "device = torch.device(\"cuda\" if torch.cuda.is_available() else \"cpu\")\n",
        "print(\"selected device : \" , device)"
      ],
      "metadata": {
        "colab": {
          "base_uri": "https://localhost:8080/"
        },
        "id": "aHbKIKzjuxZT",
        "outputId": "ee9e3442-e59a-4175-e826-b947f4d00bc4"
      },
      "execution_count": 15,
      "outputs": [
        {
          "output_type": "stream",
          "name": "stdout",
          "text": [
            "selected device :  cuda\n"
          ]
        }
      ]
    },
    {
      "cell_type": "code",
      "source": [
        "num_labels = 2\n",
        "model = AutoModelForSequenceClassification.from_pretrained(model_id,num_labels=num_labels).to(device)"
      ],
      "metadata": {
        "colab": {
          "base_uri": "https://localhost:8080/"
        },
        "id": "mYnXPwCLvkUH",
        "outputId": "1ac67774-5031-4ada-a0fe-66ad1c3b5260"
      },
      "execution_count": 16,
      "outputs": [
        {
          "output_type": "stream",
          "name": "stderr",
          "text": [
            "Some weights of DistilBertForSequenceClassification were not initialized from the model checkpoint at distilbert-base-uncased and are newly initialized: ['classifier.bias', 'classifier.weight', 'pre_classifier.bias', 'pre_classifier.weight']\n",
            "You should probably TRAIN this model on a down-stream task to be able to use it for predictions and inference.\n"
          ]
        }
      ]
    },
    {
      "cell_type": "markdown",
      "source": [
        "# Train Arguments & Train Model"
      ],
      "metadata": {
        "id": "jT9u7q4k6Qpm"
      }
    },
    {
      "cell_type": "code",
      "source": [
        "batch_size = 512\n",
        "training_args = TrainingArguments(\n",
        "    output_dir = \"./output\",\n",
        "    num_train_epochs = 30,\n",
        "    learning_rate = 0.00001,\n",
        "    per_device_train_batch_size=batch_size,\n",
        "    per_device_eval_batch_size=batch_size,\n",
        "    weight_decay=0.01,\n",
        "    eval_strategy =\"epoch\",\n",
        "    disable_tqdm=False,\n",
        "    push_to_hub=False,\n",
        "    report_to =\"tensorboard\",\n",
        ")"
      ],
      "metadata": {
        "id": "2IvZHDWdvruJ"
      },
      "execution_count": 17,
      "outputs": []
    },
    {
      "cell_type": "code",
      "source": [
        "from sklearn.metrics import accuracy_score,f1_score\n",
        "def compute_metrics(pred):\n",
        "  labels = pred.label_ids\n",
        "  preds  = pred.predictions.argmax(-1)\n",
        "  f1 = f1_score(labels, preds, average='weighted')\n",
        "  acc = accuracy_score(labels, preds)\n",
        "  return {\"accuracy\": acc,\"f1\": f1}\n",
        "trainer = Trainer(\n",
        "    model=model,\n",
        "    args=training_args,\n",
        "    train_dataset = names_encoded[\"train\"],\n",
        "    eval_dataset  = names_encoded[\"validation\"],\n",
        "    compute_metrics = compute_metrics,\n",
        "    tokenizer=tokenizer,\n",
        ")"
      ],
      "metadata": {
        "colab": {
          "base_uri": "https://localhost:8080/"
        },
        "id": "Awg4vn_3wJx0",
        "outputId": "bba182aa-734e-45bd-d243-97df88570f15"
      },
      "execution_count": 18,
      "outputs": [
        {
          "output_type": "stream",
          "name": "stderr",
          "text": [
            "/tmp/ipython-input-1319675235.py:8: FutureWarning: `tokenizer` is deprecated and will be removed in version 5.0.0 for `Trainer.__init__`. Use `processing_class` instead.\n",
            "  trainer = Trainer(\n"
          ]
        }
      ]
    },
    {
      "cell_type": "code",
      "source": [
        "trainer.train()"
      ],
      "metadata": {
        "colab": {
          "base_uri": "https://localhost:8080/",
          "height": 1000
        },
        "id": "AlHBLZfJw8RW",
        "outputId": "fb05210f-1b46-4761-8596-746921fa5ff5"
      },
      "execution_count": 19,
      "outputs": [
        {
          "output_type": "display_data",
          "data": {
            "text/plain": [
              "<IPython.core.display.HTML object>"
            ],
            "text/html": [
              "\n",
              "    <div>\n",
              "      \n",
              "      <progress value='1050' max='1050' style='width:300px; height:20px; vertical-align: middle;'></progress>\n",
              "      [1050/1050 12:27, Epoch 30/30]\n",
              "    </div>\n",
              "    <table border=\"1\" class=\"dataframe\">\n",
              "  <thead>\n",
              " <tr style=\"text-align: left;\">\n",
              "      <th>Epoch</th>\n",
              "      <th>Training Loss</th>\n",
              "      <th>Validation Loss</th>\n",
              "      <th>Accuracy</th>\n",
              "      <th>F1</th>\n",
              "    </tr>\n",
              "  </thead>\n",
              "  <tbody>\n",
              "    <tr>\n",
              "      <td>1</td>\n",
              "      <td>No log</td>\n",
              "      <td>0.534171</td>\n",
              "      <td>0.677000</td>\n",
              "      <td>0.557726</td>\n",
              "    </tr>\n",
              "    <tr>\n",
              "      <td>2</td>\n",
              "      <td>No log</td>\n",
              "      <td>0.412998</td>\n",
              "      <td>0.806000</td>\n",
              "      <td>0.803763</td>\n",
              "    </tr>\n",
              "    <tr>\n",
              "      <td>3</td>\n",
              "      <td>No log</td>\n",
              "      <td>0.373958</td>\n",
              "      <td>0.823500</td>\n",
              "      <td>0.823669</td>\n",
              "    </tr>\n",
              "    <tr>\n",
              "      <td>4</td>\n",
              "      <td>No log</td>\n",
              "      <td>0.358795</td>\n",
              "      <td>0.823500</td>\n",
              "      <td>0.824560</td>\n",
              "    </tr>\n",
              "    <tr>\n",
              "      <td>5</td>\n",
              "      <td>No log</td>\n",
              "      <td>0.345871</td>\n",
              "      <td>0.835000</td>\n",
              "      <td>0.833326</td>\n",
              "    </tr>\n",
              "    <tr>\n",
              "      <td>6</td>\n",
              "      <td>No log</td>\n",
              "      <td>0.340049</td>\n",
              "      <td>0.839000</td>\n",
              "      <td>0.839062</td>\n",
              "    </tr>\n",
              "    <tr>\n",
              "      <td>7</td>\n",
              "      <td>No log</td>\n",
              "      <td>0.335762</td>\n",
              "      <td>0.842500</td>\n",
              "      <td>0.841499</td>\n",
              "    </tr>\n",
              "    <tr>\n",
              "      <td>8</td>\n",
              "      <td>No log</td>\n",
              "      <td>0.329054</td>\n",
              "      <td>0.855000</td>\n",
              "      <td>0.854417</td>\n",
              "    </tr>\n",
              "    <tr>\n",
              "      <td>9</td>\n",
              "      <td>No log</td>\n",
              "      <td>0.326049</td>\n",
              "      <td>0.852500</td>\n",
              "      <td>0.853024</td>\n",
              "    </tr>\n",
              "    <tr>\n",
              "      <td>10</td>\n",
              "      <td>No log</td>\n",
              "      <td>0.321123</td>\n",
              "      <td>0.858500</td>\n",
              "      <td>0.858249</td>\n",
              "    </tr>\n",
              "    <tr>\n",
              "      <td>11</td>\n",
              "      <td>No log</td>\n",
              "      <td>0.325305</td>\n",
              "      <td>0.856500</td>\n",
              "      <td>0.857922</td>\n",
              "    </tr>\n",
              "    <tr>\n",
              "      <td>12</td>\n",
              "      <td>No log</td>\n",
              "      <td>0.321015</td>\n",
              "      <td>0.859000</td>\n",
              "      <td>0.858315</td>\n",
              "    </tr>\n",
              "    <tr>\n",
              "      <td>13</td>\n",
              "      <td>No log</td>\n",
              "      <td>0.315471</td>\n",
              "      <td>0.863500</td>\n",
              "      <td>0.864458</td>\n",
              "    </tr>\n",
              "    <tr>\n",
              "      <td>14</td>\n",
              "      <td>No log</td>\n",
              "      <td>0.312908</td>\n",
              "      <td>0.867000</td>\n",
              "      <td>0.867448</td>\n",
              "    </tr>\n",
              "    <tr>\n",
              "      <td>15</td>\n",
              "      <td>0.375700</td>\n",
              "      <td>0.320254</td>\n",
              "      <td>0.863500</td>\n",
              "      <td>0.864978</td>\n",
              "    </tr>\n",
              "    <tr>\n",
              "      <td>16</td>\n",
              "      <td>0.375700</td>\n",
              "      <td>0.314653</td>\n",
              "      <td>0.866000</td>\n",
              "      <td>0.867389</td>\n",
              "    </tr>\n",
              "    <tr>\n",
              "      <td>17</td>\n",
              "      <td>0.375700</td>\n",
              "      <td>0.308227</td>\n",
              "      <td>0.867500</td>\n",
              "      <td>0.867923</td>\n",
              "    </tr>\n",
              "    <tr>\n",
              "      <td>18</td>\n",
              "      <td>0.375700</td>\n",
              "      <td>0.306640</td>\n",
              "      <td>0.871500</td>\n",
              "      <td>0.871910</td>\n",
              "    </tr>\n",
              "    <tr>\n",
              "      <td>19</td>\n",
              "      <td>0.375700</td>\n",
              "      <td>0.307775</td>\n",
              "      <td>0.874500</td>\n",
              "      <td>0.875124</td>\n",
              "    </tr>\n",
              "    <tr>\n",
              "      <td>20</td>\n",
              "      <td>0.375700</td>\n",
              "      <td>0.304779</td>\n",
              "      <td>0.871500</td>\n",
              "      <td>0.872048</td>\n",
              "    </tr>\n",
              "    <tr>\n",
              "      <td>21</td>\n",
              "      <td>0.375700</td>\n",
              "      <td>0.307755</td>\n",
              "      <td>0.874000</td>\n",
              "      <td>0.875070</td>\n",
              "    </tr>\n",
              "    <tr>\n",
              "      <td>22</td>\n",
              "      <td>0.375700</td>\n",
              "      <td>0.308280</td>\n",
              "      <td>0.875000</td>\n",
              "      <td>0.876021</td>\n",
              "    </tr>\n",
              "    <tr>\n",
              "      <td>23</td>\n",
              "      <td>0.375700</td>\n",
              "      <td>0.306500</td>\n",
              "      <td>0.875500</td>\n",
              "      <td>0.876456</td>\n",
              "    </tr>\n",
              "    <tr>\n",
              "      <td>24</td>\n",
              "      <td>0.375700</td>\n",
              "      <td>0.305161</td>\n",
              "      <td>0.873000</td>\n",
              "      <td>0.873653</td>\n",
              "    </tr>\n",
              "    <tr>\n",
              "      <td>25</td>\n",
              "      <td>0.375700</td>\n",
              "      <td>0.303528</td>\n",
              "      <td>0.875000</td>\n",
              "      <td>0.875555</td>\n",
              "    </tr>\n",
              "    <tr>\n",
              "      <td>26</td>\n",
              "      <td>0.375700</td>\n",
              "      <td>0.304976</td>\n",
              "      <td>0.875000</td>\n",
              "      <td>0.875856</td>\n",
              "    </tr>\n",
              "    <tr>\n",
              "      <td>27</td>\n",
              "      <td>0.375700</td>\n",
              "      <td>0.304433</td>\n",
              "      <td>0.874000</td>\n",
              "      <td>0.874648</td>\n",
              "    </tr>\n",
              "    <tr>\n",
              "      <td>28</td>\n",
              "      <td>0.375700</td>\n",
              "      <td>0.303535</td>\n",
              "      <td>0.876000</td>\n",
              "      <td>0.876373</td>\n",
              "    </tr>\n",
              "    <tr>\n",
              "      <td>29</td>\n",
              "      <td>0.279800</td>\n",
              "      <td>0.303913</td>\n",
              "      <td>0.874000</td>\n",
              "      <td>0.874515</td>\n",
              "    </tr>\n",
              "    <tr>\n",
              "      <td>30</td>\n",
              "      <td>0.279800</td>\n",
              "      <td>0.303763</td>\n",
              "      <td>0.874500</td>\n",
              "      <td>0.875035</td>\n",
              "    </tr>\n",
              "  </tbody>\n",
              "</table><p>"
            ]
          },
          "metadata": {}
        },
        {
          "output_type": "execute_result",
          "data": {
            "text/plain": [
              "TrainOutput(global_step=1050, training_loss=0.324817084357852, metrics={'train_runtime': 749.0077, 'train_samples_per_second': 716.188, 'train_steps_per_second': 1.402, 'total_flos': 2220608958157440.0, 'train_loss': 0.324817084357852, 'epoch': 30.0})"
            ]
          },
          "metadata": {},
          "execution_count": 19
        }
      ]
    },
    {
      "cell_type": "code",
      "source": [
        "idx_to_name = {\n",
        "    0:\"Male\",\n",
        "    1:\"Women\"\n",
        "}\n",
        "name =\"کبری\"\n",
        "encoded_name = tokenizer(name,return_tensors=\"pt\").to(device)\n",
        "output = model(encoded_name[\"input_ids\"])\n",
        "print(idx_to_name[output.logits.argmax(-1).item()])"
      ],
      "metadata": {
        "colab": {
          "base_uri": "https://localhost:8080/"
        },
        "id": "eZiWY6o1w_R1",
        "outputId": "add14cdd-7c5f-4b7a-906b-395876ff8d2b"
      },
      "execution_count": 20,
      "outputs": [
        {
          "output_type": "stream",
          "name": "stdout",
          "text": [
            "Women\n"
          ]
        }
      ]
    },
    {
      "cell_type": "code",
      "source": [],
      "metadata": {
        "id": "Aj9vlTbb3R_b"
      },
      "execution_count": null,
      "outputs": []
    }
  ]
}